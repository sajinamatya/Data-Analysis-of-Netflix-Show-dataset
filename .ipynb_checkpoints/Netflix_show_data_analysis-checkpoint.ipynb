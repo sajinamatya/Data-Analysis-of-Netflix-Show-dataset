{
 "cells": [
  {
   "cell_type": "markdown",
   "id": "c0b41e17-4e9b-4484-a9c9-5631dd50d023",
   "metadata": {},
   "source": [
    "# Netflix Show Data Analysis\n"
   ]
  },
  {
   "cell_type": "markdown",
   "id": "6e821b97-9985-4afd-96b4-553105b6575f",
   "metadata": {},
   "source": [
    "## Name : Sajin Raj Amatya"
   ]
  },
  {
   "cell_type": "markdown",
   "id": "9fe0d0e8-ba3e-4714-891b-984eed8e956c",
   "metadata": {},
   "source": [
    "##"
   ]
  },
  {
   "cell_type": "markdown",
   "id": "73084400-6644-4a7e-b8bf-4544fb5f77f2",
   "metadata": {},
   "source": [
    "## 1) Data Loading"
   ]
  },
  {
   "cell_type": "markdown",
   "id": "a8316efc-d6fd-4206-9c25-6647a147bba8",
   "metadata": {
    "tags": []
   },
   "source": [
    "### 1.1) Importing necessary libraries"
   ]
  },
  {
   "cell_type": "code",
   "execution_count": 77,
   "id": "4cc08052-c0b3-4817-a0bc-0b154c180184",
   "metadata": {
    "tags": []
   },
   "outputs": [],
   "source": [
    "import pandas as pd \n",
    "import seaborn as sns\n",
    "import matplotlib.pyplot as plt \n",
    "import missingno as msno"
   ]
  },
  {
   "cell_type": "markdown",
   "id": "53c620f3-1f43-4412-89b0-fe856447c1ed",
   "metadata": {},
   "source": [
    "### 1.2) loading the csv file into dataframe "
   ]
  },
  {
   "cell_type": "code",
   "execution_count": 3,
   "id": "2b2288fd-1b2d-4d3c-8575-eedbdc8c74c2",
   "metadata": {
    "tags": []
   },
   "outputs": [],
   "source": [
    "netflix_dataframe = pd.read_csv('netflix_titles.csv')"
   ]
  },
  {
   "cell_type": "markdown",
   "id": "2c236e07-0a12-42af-8849-a991c4d6e230",
   "metadata": {},
   "source": [
    "### 1.3) Priniting first 5 rows data "
   ]
  },
  {
   "cell_type": "code",
   "execution_count": 4,
   "id": "4d7448de-1b60-4004-aa0f-50badd0e0c62",
   "metadata": {
    "tags": []
   },
   "outputs": [
    {
     "data": {
      "text/html": [
       "<div>\n",
       "<style scoped>\n",
       "    .dataframe tbody tr th:only-of-type {\n",
       "        vertical-align: middle;\n",
       "    }\n",
       "\n",
       "    .dataframe tbody tr th {\n",
       "        vertical-align: top;\n",
       "    }\n",
       "\n",
       "    .dataframe thead th {\n",
       "        text-align: right;\n",
       "    }\n",
       "</style>\n",
       "<table border=\"1\" class=\"dataframe\">\n",
       "  <thead>\n",
       "    <tr style=\"text-align: right;\">\n",
       "      <th></th>\n",
       "      <th>show_id</th>\n",
       "      <th>type</th>\n",
       "      <th>title</th>\n",
       "      <th>director</th>\n",
       "      <th>cast</th>\n",
       "      <th>country</th>\n",
       "      <th>date_added</th>\n",
       "      <th>release_year</th>\n",
       "      <th>rating</th>\n",
       "      <th>duration</th>\n",
       "      <th>listed_in</th>\n",
       "      <th>description</th>\n",
       "    </tr>\n",
       "  </thead>\n",
       "  <tbody>\n",
       "    <tr>\n",
       "      <th>0</th>\n",
       "      <td>s1</td>\n",
       "      <td>Movie</td>\n",
       "      <td>Dick Johnson Is Dead</td>\n",
       "      <td>Kirsten Johnson</td>\n",
       "      <td>NaN</td>\n",
       "      <td>United States</td>\n",
       "      <td>September 25, 2021</td>\n",
       "      <td>2020</td>\n",
       "      <td>PG-13</td>\n",
       "      <td>90 min</td>\n",
       "      <td>Documentaries</td>\n",
       "      <td>As her father nears the end of his life, filmm...</td>\n",
       "    </tr>\n",
       "    <tr>\n",
       "      <th>1</th>\n",
       "      <td>s2</td>\n",
       "      <td>TV Show</td>\n",
       "      <td>Blood &amp; Water</td>\n",
       "      <td>NaN</td>\n",
       "      <td>Ama Qamata, Khosi Ngema, Gail Mabalane, Thaban...</td>\n",
       "      <td>South Africa</td>\n",
       "      <td>September 24, 2021</td>\n",
       "      <td>2021</td>\n",
       "      <td>TV-MA</td>\n",
       "      <td>2 Seasons</td>\n",
       "      <td>International TV Shows, TV Dramas, TV Mysteries</td>\n",
       "      <td>After crossing paths at a party, a Cape Town t...</td>\n",
       "    </tr>\n",
       "    <tr>\n",
       "      <th>2</th>\n",
       "      <td>s3</td>\n",
       "      <td>TV Show</td>\n",
       "      <td>Ganglands</td>\n",
       "      <td>Julien Leclercq</td>\n",
       "      <td>Sami Bouajila, Tracy Gotoas, Samuel Jouy, Nabi...</td>\n",
       "      <td>NaN</td>\n",
       "      <td>September 24, 2021</td>\n",
       "      <td>2021</td>\n",
       "      <td>TV-MA</td>\n",
       "      <td>1 Season</td>\n",
       "      <td>Crime TV Shows, International TV Shows, TV Act...</td>\n",
       "      <td>To protect his family from a powerful drug lor...</td>\n",
       "    </tr>\n",
       "    <tr>\n",
       "      <th>3</th>\n",
       "      <td>s4</td>\n",
       "      <td>TV Show</td>\n",
       "      <td>Jailbirds New Orleans</td>\n",
       "      <td>NaN</td>\n",
       "      <td>NaN</td>\n",
       "      <td>NaN</td>\n",
       "      <td>September 24, 2021</td>\n",
       "      <td>2021</td>\n",
       "      <td>TV-MA</td>\n",
       "      <td>1 Season</td>\n",
       "      <td>Docuseries, Reality TV</td>\n",
       "      <td>Feuds, flirtations and toilet talk go down amo...</td>\n",
       "    </tr>\n",
       "    <tr>\n",
       "      <th>4</th>\n",
       "      <td>s5</td>\n",
       "      <td>TV Show</td>\n",
       "      <td>Kota Factory</td>\n",
       "      <td>NaN</td>\n",
       "      <td>Mayur More, Jitendra Kumar, Ranjan Raj, Alam K...</td>\n",
       "      <td>India</td>\n",
       "      <td>September 24, 2021</td>\n",
       "      <td>2021</td>\n",
       "      <td>TV-MA</td>\n",
       "      <td>2 Seasons</td>\n",
       "      <td>International TV Shows, Romantic TV Shows, TV ...</td>\n",
       "      <td>In a city of coaching centers known to train I...</td>\n",
       "    </tr>\n",
       "  </tbody>\n",
       "</table>\n",
       "</div>"
      ],
      "text/plain": [
       "  show_id     type                  title         director  \\\n",
       "0      s1    Movie   Dick Johnson Is Dead  Kirsten Johnson   \n",
       "1      s2  TV Show          Blood & Water              NaN   \n",
       "2      s3  TV Show              Ganglands  Julien Leclercq   \n",
       "3      s4  TV Show  Jailbirds New Orleans              NaN   \n",
       "4      s5  TV Show           Kota Factory              NaN   \n",
       "\n",
       "                                                cast        country  \\\n",
       "0                                                NaN  United States   \n",
       "1  Ama Qamata, Khosi Ngema, Gail Mabalane, Thaban...   South Africa   \n",
       "2  Sami Bouajila, Tracy Gotoas, Samuel Jouy, Nabi...            NaN   \n",
       "3                                                NaN            NaN   \n",
       "4  Mayur More, Jitendra Kumar, Ranjan Raj, Alam K...          India   \n",
       "\n",
       "           date_added  release_year rating   duration  \\\n",
       "0  September 25, 2021          2020  PG-13     90 min   \n",
       "1  September 24, 2021          2021  TV-MA  2 Seasons   \n",
       "2  September 24, 2021          2021  TV-MA   1 Season   \n",
       "3  September 24, 2021          2021  TV-MA   1 Season   \n",
       "4  September 24, 2021          2021  TV-MA  2 Seasons   \n",
       "\n",
       "                                           listed_in  \\\n",
       "0                                      Documentaries   \n",
       "1    International TV Shows, TV Dramas, TV Mysteries   \n",
       "2  Crime TV Shows, International TV Shows, TV Act...   \n",
       "3                             Docuseries, Reality TV   \n",
       "4  International TV Shows, Romantic TV Shows, TV ...   \n",
       "\n",
       "                                         description  \n",
       "0  As her father nears the end of his life, filmm...  \n",
       "1  After crossing paths at a party, a Cape Town t...  \n",
       "2  To protect his family from a powerful drug lor...  \n",
       "3  Feuds, flirtations and toilet talk go down amo...  \n",
       "4  In a city of coaching centers known to train I...  "
      ]
     },
     "execution_count": 4,
     "metadata": {},
     "output_type": "execute_result"
    }
   ],
   "source": [
    "netflix_dataframe.head()"
   ]
  },
  {
   "cell_type": "markdown",
   "id": "4d366a60-b3db-4bac-965a-4b9f71160f0c",
   "metadata": {},
   "source": [
    "## 2) Data Understanding (Data Exploration) "
   ]
  },
  {
   "cell_type": "markdown",
   "id": "202dd120-01e2-49ae-977b-1c4a40de8777",
   "metadata": {},
   "source": [
    "### 2.1) Total number of rows and columns in the dataframe"
   ]
  },
  {
   "cell_type": "code",
   "execution_count": 5,
   "id": "cecd4d61-ce36-4c3d-bc19-308570fdf34e",
   "metadata": {
    "tags": []
   },
   "outputs": [
    {
     "data": {
      "text/plain": [
       "(8807, 12)"
      ]
     },
     "execution_count": 5,
     "metadata": {},
     "output_type": "execute_result"
    }
   ],
   "source": [
    "netflix_dataframe.shape"
   ]
  },
  {
   "cell_type": "markdown",
   "id": "60a5892c-d748-42b1-9ebf-eb67850d745b",
   "metadata": {},
   "source": [
    "#### There are total of 8807 rows and 12 columns in the dataframe "
   ]
  },
  {
   "cell_type": "markdown",
   "id": "91cadc41-e2cf-49f4-ba94-ea0c3704344c",
   "metadata": {},
   "source": [
    "### 2.2) Columns of the dataframe"
   ]
  },
  {
   "cell_type": "code",
   "execution_count": 6,
   "id": "e56c5b66-7d68-464d-adef-f5ab26ab15f9",
   "metadata": {
    "tags": []
   },
   "outputs": [
    {
     "data": {
      "text/plain": [
       "Index(['show_id', 'type', 'title', 'director', 'cast', 'country', 'date_added',\n",
       "       'release_year', 'rating', 'duration', 'listed_in', 'description'],\n",
       "      dtype='object')"
      ]
     },
     "execution_count": 6,
     "metadata": {},
     "output_type": "execute_result"
    }
   ],
   "source": [
    "netflix_dataframe.columns"
   ]
  },
  {
   "cell_type": "markdown",
   "id": "47e7250b-ab82-4543-aff0-c1e91e3f70f3",
   "metadata": {
    "tags": []
   },
   "source": [
    "### 2.3) Inspecting the Datatype of each columns of the  dataframe"
   ]
  },
  {
   "cell_type": "code",
   "execution_count": 7,
   "id": "feb38bc6-825b-4182-8603-d9f440cf970f",
   "metadata": {
    "tags": []
   },
   "outputs": [
    {
     "data": {
      "text/plain": [
       "show_id         object\n",
       "type            object\n",
       "title           object\n",
       "director        object\n",
       "cast            object\n",
       "country         object\n",
       "date_added      object\n",
       "release_year     int64\n",
       "rating          object\n",
       "duration        object\n",
       "listed_in       object\n",
       "description     object\n",
       "dtype: object"
      ]
     },
     "execution_count": 7,
     "metadata": {},
     "output_type": "execute_result"
    }
   ],
   "source": [
    "netflix_dataframe.dtypes"
   ]
  },
  {
   "cell_type": "markdown",
   "id": "c62a9575-a57d-4842-9a40-36debcfb9efd",
   "metadata": {},
   "source": [
    "### 2.4) Detail information about each columns "
   ]
  },
  {
   "cell_type": "code",
   "execution_count": 8,
   "id": "0be4eb2f-1f66-4c86-b5db-e298d677ed1d",
   "metadata": {
    "tags": []
   },
   "outputs": [
    {
     "name": "stdout",
     "output_type": "stream",
     "text": [
      "<class 'pandas.core.frame.DataFrame'>\n",
      "RangeIndex: 8807 entries, 0 to 8806\n",
      "Data columns (total 12 columns):\n",
      " #   Column        Non-Null Count  Dtype \n",
      "---  ------        --------------  ----- \n",
      " 0   show_id       8807 non-null   object\n",
      " 1   type          8807 non-null   object\n",
      " 2   title         8807 non-null   object\n",
      " 3   director      6173 non-null   object\n",
      " 4   cast          7982 non-null   object\n",
      " 5   country       7976 non-null   object\n",
      " 6   date_added    8797 non-null   object\n",
      " 7   release_year  8807 non-null   int64 \n",
      " 8   rating        8803 non-null   object\n",
      " 9   duration      8804 non-null   object\n",
      " 10  listed_in     8807 non-null   object\n",
      " 11  description   8807 non-null   object\n",
      "dtypes: int64(1), object(11)\n",
      "memory usage: 825.8+ KB\n"
     ]
    }
   ],
   "source": [
    "netflix_dataframe.info()"
   ]
  },
  {
   "cell_type": "markdown",
   "id": "f79e689c-1b68-4f15-812b-282235faeb6d",
   "metadata": {},
   "source": [
    "### 2.5) Exploration of each columns"
   ]
  },
  {
   "cell_type": "markdown",
   "id": "83e2b97e-53bd-4825-9ad7-bd05eecf6156",
   "metadata": {
    "tags": []
   },
   "source": [
    "#### 2.5.1) 'Type' columns "
   ]
  },
  {
   "cell_type": "code",
   "execution_count": 9,
   "id": "665368ba-bb53-417e-9d5d-58cb816946e1",
   "metadata": {
    "tags": []
   },
   "outputs": [
    {
     "data": {
      "text/plain": [
       "array(['Movie', 'TV Show'], dtype=object)"
      ]
     },
     "execution_count": 9,
     "metadata": {},
     "output_type": "execute_result"
    }
   ],
   "source": [
    "netflix_dataframe['type'].unique()"
   ]
  },
  {
   "cell_type": "markdown",
   "id": "de00dee5-cbf5-4d66-9c5d-69db3c32d8c3",
   "metadata": {
    "tags": []
   },
   "source": [
    "##### There are total of two types of shows i.e 'Movie' and 'TV Show'"
   ]
  },
  {
   "cell_type": "code",
   "execution_count": 10,
   "id": "f816dd63-9ea2-4df2-a921-2f5208603d77",
   "metadata": {
    "tags": []
   },
   "outputs": [
    {
     "data": {
      "text/plain": [
       "type\n",
       "Movie      6131\n",
       "TV Show    2676\n",
       "Name: count, dtype: int64"
      ]
     },
     "execution_count": 10,
     "metadata": {},
     "output_type": "execute_result"
    }
   ],
   "source": [
    "netflix_dataframe['type'].value_counts()"
   ]
  },
  {
   "cell_type": "markdown",
   "id": "785811b8-d87c-4fdc-90fe-175db306e63d",
   "metadata": {},
   "source": [
    "##### Most of the people watch Movie shows with total records of 6131 movie shows and TV shows with records of 2676."
   ]
  },
  {
   "cell_type": "markdown",
   "id": "dc4e69c0-97e3-4f91-8e23-598a1beaa788",
   "metadata": {},
   "source": [
    "#### 2.5.2) 'title' columns"
   ]
  },
  {
   "cell_type": "code",
   "execution_count": 11,
   "id": "488750b4-cc91-4b19-a208-4ef412b7b9d3",
   "metadata": {
    "tags": []
   },
   "outputs": [
    {
     "data": {
      "text/plain": [
       "8807"
      ]
     },
     "execution_count": 11,
     "metadata": {},
     "output_type": "execute_result"
    }
   ],
   "source": [
    "netflix_dataframe['title'].nunique()"
   ]
  },
  {
   "cell_type": "markdown",
   "id": "a5c5444b-e761-4470-8f36-70a70b2cedce",
   "metadata": {
    "tags": []
   },
   "source": [
    "##### All the movies title have a unique names \n"
   ]
  },
  {
   "cell_type": "markdown",
   "id": "89eda101-dcdb-4161-a7c8-9fa1664ada64",
   "metadata": {},
   "source": [
    "#### 2.5.3) 'director' columns"
   ]
  },
  {
   "cell_type": "code",
   "execution_count": 12,
   "id": "f5444851-efb5-41a3-bebe-b7339ae84a59",
   "metadata": {
    "tags": []
   },
   "outputs": [
    {
     "data": {
      "text/plain": [
       "director\n",
       "Rajiv Chilaka                     19\n",
       "Raúl Campos, Jan Suter            18\n",
       "Marcus Raboy                      16\n",
       "Suhas Kadav                       16\n",
       "Jay Karas                         14\n",
       "                                  ..\n",
       "Raymie Muzquiz, Stu Livingston     1\n",
       "Joe Menendez                       1\n",
       "Eric Bross                         1\n",
       "Will Eisenberg                     1\n",
       "Mozez Singh                        1\n",
       "Name: count, Length: 4528, dtype: int64"
      ]
     },
     "execution_count": 12,
     "metadata": {},
     "output_type": "execute_result"
    }
   ],
   "source": [
    "netflix_dataframe['director'].value_counts()"
   ]
  },
  {
   "cell_type": "markdown",
   "id": "8f90d5bb-18f0-42dc-9217-d230133ace2b",
   "metadata": {},
   "source": [
    "##### Rajiv Chilaka directed highest number of movies with total of 19 movies "
   ]
  },
  {
   "cell_type": "code",
   "execution_count": 13,
   "id": "a9f9c6cc-9bde-460e-afdb-76b4612e588c",
   "metadata": {
    "tags": []
   },
   "outputs": [
    {
     "data": {
      "text/plain": [
       "4528"
      ]
     },
     "execution_count": 13,
     "metadata": {},
     "output_type": "execute_result"
    }
   ],
   "source": [
    "netflix_dataframe['director'].nunique()"
   ]
  },
  {
   "cell_type": "markdown",
   "id": "0d86549a-5fc2-460b-9c4c-3b87bd7c082b",
   "metadata": {},
   "source": [
    "##### There are total of 4528 unique director in this dataset "
   ]
  },
  {
   "cell_type": "markdown",
   "id": "e852a20a-caf9-45bf-b4df-994762f5c6b2",
   "metadata": {
    "tags": []
   },
   "source": [
    "#### 2.5.4) 'cast' column"
   ]
  },
  {
   "cell_type": "code",
   "execution_count": 14,
   "id": "8edd34b9-8f46-423b-bbb8-5f547c90c52e",
   "metadata": {},
   "outputs": [
    {
     "data": {
      "text/plain": [
       "7692"
      ]
     },
     "execution_count": 14,
     "metadata": {},
     "output_type": "execute_result"
    }
   ],
   "source": [
    "netflix_dataframe['cast'].nunique()"
   ]
  },
  {
   "cell_type": "code",
   "execution_count": 19,
   "id": "a0de3c28-77a6-47f4-a139-d4d79caf1e24",
   "metadata": {},
   "outputs": [
    {
     "name": "stdout",
     "output_type": "stream",
     "text": [
      "0       United States\n",
      "1        South Africa\n",
      "2                 NaN\n",
      "3                 NaN\n",
      "4               India\n",
      "            ...      \n",
      "8802    United States\n",
      "8803              NaN\n",
      "8804    United States\n",
      "8805    United States\n",
      "8806            India\n",
      "Name: country, Length: 8807, dtype: object\n"
     ]
    }
   ],
   "source": [
    "df_expanded = netflix_dataframe.explode(\"country\")\n",
    "print(df_expanded['country'])"
   ]
  },
  {
   "cell_type": "markdown",
   "id": "f531991c-aa3b-41e6-a0df-bef29c1601e3",
   "metadata": {},
   "source": [
    "#### 2.5.6) 'country' column"
   ]
  },
  {
   "cell_type": "markdown",
   "id": "65ded8a3-44f6-420f-b078-062a06f98cb7",
   "metadata": {
    "tags": []
   },
   "source": [
    "##### Separating the list like values of the country column into separate rows using explode method"
   ]
  },
  {
   "cell_type": "code",
   "execution_count": 35,
   "id": "1bbff432-d234-4440-9d2a-57f166f7b3bd",
   "metadata": {
    "tags": []
   },
   "outputs": [
    {
     "name": "stdout",
     "output_type": "stream",
     "text": [
      "0       United States\n",
      "1        South Africa\n",
      "2                 NaN\n",
      "3                 NaN\n",
      "4               India\n",
      "5                 NaN\n",
      "6                 NaN\n",
      "7       United States\n",
      "7               Ghana\n",
      "7        Burkina Faso\n",
      "7      United Kingdom\n",
      "7             Germany\n",
      "7            Ethiopia\n",
      "8      United Kingdom\n",
      "9       United States\n",
      "10                NaN\n",
      "11                NaN\n",
      "12            Germany\n",
      "12     Czech Republic\n",
      "13                NaN\n",
      "Name: country, dtype: object\n"
     ]
    }
   ],
   "source": [
    "\n",
    "netflix_dataframe['country'] = netflix_dataframe['country'].str.split(',')\n",
    "netflix_dataframe = netflix_dataframe.explode('country')\n",
    "print(netflix_dataframe['country'].head(20))"
   ]
  },
  {
   "cell_type": "code",
   "execution_count": 37,
   "id": "28002d1a-10b9-4573-b4f3-ccd424e88884",
   "metadata": {
    "tags": []
   },
   "outputs": [
    {
     "data": {
      "text/plain": [
       "country\n",
       "United States     3211\n",
       "India             1008\n",
       "United Kingdom     628\n",
       " United States     479\n",
       "Canada             271\n",
       "Name: count, dtype: int64"
      ]
     },
     "execution_count": 37,
     "metadata": {},
     "output_type": "execute_result"
    }
   ],
   "source": [
    "netflix_dataframe['country'].value_counts().nlargest(5)"
   ]
  },
  {
   "cell_type": "markdown",
   "id": "70a44942-20eb-4efa-8add-adbad425abb8",
   "metadata": {},
   "source": [
    "#### Most of the shows are screening in United states with total of 3211 shows. "
   ]
  },
  {
   "cell_type": "markdown",
   "id": "cfa8ac53-203c-41d5-9a0c-70f2264b4aae",
   "metadata": {
    "tags": []
   },
   "source": [
    "#### 2.5.7) 'date_added' column"
   ]
  },
  {
   "cell_type": "code",
   "execution_count": 42,
   "id": "0b167caa-a46f-472b-b680-9dcaf605adfe",
   "metadata": {
    "tags": []
   },
   "outputs": [
    {
     "data": {
      "text/plain": [
       "1767"
      ]
     },
     "execution_count": 42,
     "metadata": {},
     "output_type": "execute_result"
    }
   ],
   "source": [
    "netflix_dataframe['date_added'].nunique()"
   ]
  },
  {
   "cell_type": "markdown",
   "id": "0cd416d6-1022-4c4a-a656-06c5a8f47b57",
   "metadata": {},
   "source": [
    "##### There are total of 1767 unique dates entries in the dataframe"
   ]
  },
  {
   "cell_type": "code",
   "execution_count": 43,
   "id": "64e32440-5af0-4c32-8ebb-e9434405fd8f",
   "metadata": {
    "tags": []
   },
   "outputs": [
    {
     "data": {
      "text/plain": [
       "date_added\n",
       "January 1, 2020    164\n",
       "Name: count, dtype: int64"
      ]
     },
     "execution_count": 43,
     "metadata": {},
     "output_type": "execute_result"
    }
   ],
   "source": [
    "netflix_dataframe['date_added'].value_counts().nlargest(1)"
   ]
  },
  {
   "cell_type": "markdown",
   "id": "0cdc0d3b-259c-4bae-99d7-e8a7a6e5dc76",
   "metadata": {},
   "source": [
    "##### On january 1, 2020 highest number of show was added with 164 number. "
   ]
  },
  {
   "cell_type": "markdown",
   "id": "0f4660a9-6c99-4492-a554-914d21cc4b7a",
   "metadata": {
    "tags": []
   },
   "source": [
    "#### 2.5.8) 'release_year' column"
   ]
  },
  {
   "cell_type": "code",
   "execution_count": 45,
   "id": "cd89fff0-81f3-4c91-95b5-93a1f0941fcc",
   "metadata": {
    "tags": []
   },
   "outputs": [
    {
     "data": {
      "text/plain": [
       "74"
      ]
     },
     "execution_count": 45,
     "metadata": {},
     "output_type": "execute_result"
    }
   ],
   "source": [
    "netflix_dataframe['release_year'].nunique()"
   ]
  },
  {
   "cell_type": "markdown",
   "id": "077c9dfd-7d1a-4a86-a7c9-d510080e31eb",
   "metadata": {},
   "source": [
    "##### There are total of 74 unique release_year entries in the dataframe"
   ]
  },
  {
   "cell_type": "code",
   "execution_count": 96,
   "id": "561c47ab-93c7-4c31-a7ed-57d7724cf249",
   "metadata": {
    "tags": []
   },
   "outputs": [
    {
     "name": "stdout",
     "output_type": "stream",
     "text": [
      "release_year\n",
      "2018    1392\n",
      "2017    1276\n",
      "2019    1208\n",
      "2016    1155\n",
      "2020    1055\n",
      "        ... \n",
      "1961       2\n",
      "1966       1\n",
      "1925       1\n",
      "1959       1\n",
      "1947       1\n",
      "Name: count, Length: 74, dtype: int64\n"
     ]
    }
   ],
   "source": [
    "release_year_value_count = netflix_dataframe['release_year'].value_counts()\n",
    "print(release_year_value_count)"
   ]
  },
  {
   "cell_type": "markdown",
   "id": "501c7ead-1973-4d11-a6bd-301abf6a62cd",
   "metadata": {},
   "source": [
    "##### In year between 2002 - 2018 most of the shows were released|"
   ]
  },
  {
   "cell_type": "markdown",
   "id": "435a4ff2-18d3-4a7e-86d6-2dda36b91495",
   "metadata": {},
   "source": [
    "#### 2.5.9) 'rating' column"
   ]
  },
  {
   "cell_type": "code",
   "execution_count": 55,
   "id": "0cddf569-4543-4a14-8a5c-e47daab093e1",
   "metadata": {
    "tags": []
   },
   "outputs": [
    {
     "data": {
      "text/plain": [
       "17"
      ]
     },
     "execution_count": 55,
     "metadata": {},
     "output_type": "execute_result"
    }
   ],
   "source": [
    "netflix_dataframe['rating'].nunique()"
   ]
  },
  {
   "cell_type": "code",
   "execution_count": 57,
   "id": "d969cc61-6815-4e98-b4e9-99a65f555ced",
   "metadata": {
    "tags": []
   },
   "outputs": [
    {
     "data": {
      "text/plain": [
       "rating\n",
       "TV-MA    3755\n",
       "TV-14    2406\n",
       "R        1236\n",
       "TV-PG    1002\n",
       "PG-13     769\n",
       "Name: count, dtype: int64"
      ]
     },
     "execution_count": 57,
     "metadata": {},
     "output_type": "execute_result"
    }
   ],
   "source": [
    "netflix_dataframe['rating'].value_counts().nlargest(5)"
   ]
  },
  {
   "cell_type": "markdown",
   "id": "1fdf9171-bce3-403b-9eb9-fad2d74e532c",
   "metadata": {},
   "source": [
    "##### 'TV-MA' has the highest number of rating the different show with 3755 shows rated with it. "
   ]
  },
  {
   "cell_type": "markdown",
   "id": "2733d7d8-5538-4086-9d18-b9e2f0c304d0",
   "metadata": {
    "tags": []
   },
   "source": [
    "#### 2.5.10) 'duration' column"
   ]
  },
  {
   "cell_type": "code",
   "execution_count": 59,
   "id": "e29bb47a-9857-4e58-8f2b-5b8aee4f2798",
   "metadata": {
    "tags": []
   },
   "outputs": [
    {
     "data": {
      "text/plain": [
       "220"
      ]
     },
     "execution_count": 59,
     "metadata": {},
     "output_type": "execute_result"
    }
   ],
   "source": [
    "netflix_dataframe['duration'].nunique()"
   ]
  },
  {
   "cell_type": "code",
   "execution_count": 67,
   "id": "f42847e6-2863-4424-8500-9e7f1854bf34",
   "metadata": {
    "tags": []
   },
   "outputs": [
    {
     "data": {
      "text/plain": [
       "duration\n",
       "1 Season     1985\n",
       "2 Seasons     497\n",
       "3 Seasons     242\n",
       "93 min        202\n",
       "90 min        199\n",
       "Name: count, dtype: int64"
      ]
     },
     "execution_count": 67,
     "metadata": {},
     "output_type": "execute_result"
    }
   ],
   "source": [
    "netflix_dataframe['duration'].value_counts().nlargest(5)"
   ]
  },
  {
   "cell_type": "markdown",
   "id": "cf01e79d-7e9d-4ce0-9a7d-3f3a1c5f2d38",
   "metadata": {},
   "source": [
    "#### About 1985 shows have the duration of 1 season which is the highest count duration feature. "
   ]
  },
  {
   "cell_type": "markdown",
   "id": "a66d5804-972e-44f1-8acf-b970920c7894",
   "metadata": {},
   "source": [
    "#### 2.5.11) 'Listed_in' column"
   ]
  },
  {
   "cell_type": "code",
   "execution_count": 72,
   "id": "ce9aa0cf-4c12-4456-8c59-613fc20e9817",
   "metadata": {
    "tags": []
   },
   "outputs": [
    {
     "data": {
      "text/plain": [
       "listed_in\n",
       "Dramas, International Movies                        487\n",
       "Documentaries                                       424\n",
       "Dramas, Independent Movies, International Movies    393\n",
       "Stand-Up Comedy                                     335\n",
       "Comedies, Dramas, International Movies              314\n",
       "Name: count, dtype: int64"
      ]
     },
     "execution_count": 72,
     "metadata": {},
     "output_type": "execute_result"
    }
   ],
   "source": [
    "netflix_dataframe['listed_in'].value_counts().nlargest(5)"
   ]
  },
  {
   "cell_type": "markdown",
   "id": "a1b7c4b8-11a3-4a4a-96fd-ec747584fa5b",
   "metadata": {},
   "source": [
    "##### Most of the shows were listed in Dramas,International Movies, Documentaries, comedy and independent movies "
   ]
  },
  {
   "cell_type": "code",
   "execution_count": 71,
   "id": "f3fdedc7-b6d7-4670-af7f-12c627156b8f",
   "metadata": {
    "tags": []
   },
   "outputs": [
    {
     "data": {
      "text/plain": [
       "514"
      ]
     },
     "execution_count": 71,
     "metadata": {},
     "output_type": "execute_result"
    }
   ],
   "source": [
    "netflix_dataframe['listed_in'].nunique()"
   ]
  },
  {
   "cell_type": "markdown",
   "id": "79390292-a091-4f1b-abee-f0b3e8b3de11",
   "metadata": {
    "tags": []
   },
   "source": [
    "#### 2.5.12) 'description' column"
   ]
  },
  {
   "cell_type": "code",
   "execution_count": 74,
   "id": "e382f030-a0df-4433-af6e-2bf04b29eb52",
   "metadata": {
    "tags": []
   },
   "outputs": [
    {
     "data": {
      "text/plain": [
       "8775"
      ]
     },
     "execution_count": 74,
     "metadata": {},
     "output_type": "execute_result"
    }
   ],
   "source": [
    "netflix_dataframe['description'].nunique()"
   ]
  },
  {
   "cell_type": "code",
   "execution_count": 75,
   "id": "06b3ba00-94d1-440a-a18f-b594bdb72b55",
   "metadata": {
    "tags": []
   },
   "outputs": [
    {
     "data": {
      "text/plain": [
       "description\n",
       "A blend of cultural nuance and mesmerizing techniques adds flavor to this globe-hopping celebration of cooking, tradition and community.                   12\n",
       "In a society terrorized into silence, the brother of a 1960s Indonesian genocide victim learns the identity of his murderers and confronts them.           10\n",
       "Join freewheeling Shaun for barnyard misadventures with his cousin Timmy, giant sheepdog Bitzer, jealous cat Pidsley and fellow sheep Shirley.              8\n",
       "While working on the first Oxford English Dictionary, a scholar receives thousands of entries from a doctor with a lengthy vocabulary and dark secrets.     8\n",
       "A Copenhagen police officer hunts for the man who attacked his partner, only to stumble into a high-stakes game of espionage.                               7\n",
       "Name: count, dtype: int64"
      ]
     },
     "execution_count": 75,
     "metadata": {},
     "output_type": "execute_result"
    }
   ],
   "source": [
    "netflix_dataframe['description'].value_counts().nlargest(5)"
   ]
  },
  {
   "cell_type": "markdown",
   "id": "81c26daf-3c5b-4535-996e-361eab881d15",
   "metadata": {},
   "source": [
    "##### Some of the description are same for the different shows "
   ]
  },
  {
   "cell_type": "markdown",
   "id": "0e518b06-49eb-4e5b-95d6-7ade0abd1cbc",
   "metadata": {},
   "source": [
    "## 2.6 Missing values"
   ]
  },
  {
   "cell_type": "code",
   "execution_count": 76,
   "id": "da76f92a-aeb6-48c7-a06e-1633390aa1a8",
   "metadata": {
    "tags": []
   },
   "outputs": [
    {
     "data": {
      "text/plain": [
       "show_id            0\n",
       "type               0\n",
       "title              0\n",
       "director        2970\n",
       "cast            1006\n",
       "country          831\n",
       "date_added        10\n",
       "release_year       0\n",
       "rating             4\n",
       "duration           3\n",
       "listed_in          0\n",
       "description        0\n",
       "dtype: int64"
      ]
     },
     "execution_count": 76,
     "metadata": {},
     "output_type": "execute_result"
    }
   ],
   "source": [
    "netflix_dataframe.isna().sum()"
   ]
  },
  {
   "cell_type": "markdown",
   "id": "0c888980-4a65-416d-b5e4-9b93928edfc1",
   "metadata": {},
   "source": [
    "##### In half portion of  records director data is missing, cast data in some portion, country, date_added, rating, and duration are also missing in small count."
   ]
  },
  {
   "cell_type": "markdown",
   "id": "4e28f693-99b8-45c8-a6f9-d6d1776fecf7",
   "metadata": {},
   "source": [
    "#### Visualization of missing data"
   ]
  },
  {
   "cell_type": "markdown",
   "id": "1d106497-4c6e-4725-9c78-d810fcdc18d8",
   "metadata": {
    "tags": []
   },
   "source": [
    "msno.matrix(netflix_dataframe)"
   ]
  },
  {
   "cell_type": "markdown",
   "id": "c67bdbe0-6ede-4413-b3ee-0f77bb391e0a",
   "metadata": {},
   "source": [
    "## 2.7 Duplicates values"
   ]
  },
  {
   "cell_type": "code",
   "execution_count": 83,
   "id": "85cdc27c-2e13-4dc2-ae69-59244b3f2f14",
   "metadata": {
    "tags": []
   },
   "outputs": [
    {
     "data": {
      "text/html": [
       "<div>\n",
       "<style scoped>\n",
       "    .dataframe tbody tr th:only-of-type {\n",
       "        vertical-align: middle;\n",
       "    }\n",
       "\n",
       "    .dataframe tbody tr th {\n",
       "        vertical-align: top;\n",
       "    }\n",
       "\n",
       "    .dataframe thead th {\n",
       "        text-align: right;\n",
       "    }\n",
       "</style>\n",
       "<table border=\"1\" class=\"dataframe\">\n",
       "  <thead>\n",
       "    <tr style=\"text-align: right;\">\n",
       "      <th></th>\n",
       "      <th>show_id</th>\n",
       "      <th>type</th>\n",
       "      <th>title</th>\n",
       "      <th>director</th>\n",
       "      <th>cast</th>\n",
       "      <th>country</th>\n",
       "      <th>date_added</th>\n",
       "      <th>release_year</th>\n",
       "      <th>rating</th>\n",
       "      <th>duration</th>\n",
       "      <th>listed_in</th>\n",
       "      <th>description</th>\n",
       "    </tr>\n",
       "  </thead>\n",
       "  <tbody>\n",
       "  </tbody>\n",
       "</table>\n",
       "</div>"
      ],
      "text/plain": [
       "Empty DataFrame\n",
       "Columns: [show_id, type, title, director, cast, country, date_added, release_year, rating, duration, listed_in, description]\n",
       "Index: []"
      ]
     },
     "execution_count": 83,
     "metadata": {},
     "output_type": "execute_result"
    }
   ],
   "source": [
    "netflix_dataframe[netflix_dataframe.duplicated()]"
   ]
  },
  {
   "cell_type": "code",
   "execution_count": 85,
   "id": "8e17677f-353e-412f-96b5-d321634c2e20",
   "metadata": {
    "tags": []
   },
   "outputs": [
    {
     "data": {
      "text/plain": [
       "0"
      ]
     },
     "execution_count": 85,
     "metadata": {},
     "output_type": "execute_result"
    }
   ],
   "source": [
    "netflix_dataframe.duplicated().sum()"
   ]
  },
  {
   "cell_type": "markdown",
   "id": "37a71715-666b-448f-b5be-369026c7f6b9",
   "metadata": {
    "tags": []
   },
   "source": [
    "#### There are no duplicated values "
   ]
  },
  {
   "cell_type": "markdown",
   "id": "489c70ff-86da-4b20-8144-d7df5f3cb3e6",
   "metadata": {},
   "source": [
    "## 3) Data Preparation "
   ]
  },
  {
   "cell_type": "markdown",
   "id": "1487ae17-7f7e-4c5e-8412-498d5cf228a3",
   "metadata": {},
   "source": [
    "#### 3.1 ) Dealing with missing values "
   ]
  },
  {
   "cell_type": "code",
   "execution_count": 88,
   "id": "04a1bdd8-8124-41b8-b788-cc27d13f6282",
   "metadata": {
    "tags": []
   },
   "outputs": [
    {
     "data": {
      "text/plain": [
       "0       Kirsten Johnson\n",
       "1         Not mentioned\n",
       "2       Julien Leclercq\n",
       "3         Not mentioned\n",
       "4         Not mentioned\n",
       "             ...       \n",
       "8802      David Fincher\n",
       "8803      Not mentioned\n",
       "8804    Ruben Fleischer\n",
       "8805       Peter Hewitt\n",
       "8806        Mozez Singh\n",
       "Name: director, Length: 10850, dtype: object"
      ]
     },
     "execution_count": 88,
     "metadata": {},
     "output_type": "execute_result"
    }
   ],
   "source": [
    "netflix_dataframe['director'].fillna('Not mentioned')"
   ]
  },
  {
   "cell_type": "code",
   "execution_count": 89,
   "id": "b5ef44d4-1dc6-4cbd-b5ea-7d3d0bbbd328",
   "metadata": {
    "tags": []
   },
   "outputs": [
    {
     "data": {
      "text/plain": [
       "0                                      Not mentioned cast\n",
       "1       Ama Qamata, Khosi Ngema, Gail Mabalane, Thaban...\n",
       "2       Sami Bouajila, Tracy Gotoas, Samuel Jouy, Nabi...\n",
       "3                                      Not mentioned cast\n",
       "4       Mayur More, Jitendra Kumar, Ranjan Raj, Alam K...\n",
       "                              ...                        \n",
       "8802    Mark Ruffalo, Jake Gyllenhaal, Robert Downey J...\n",
       "8803                                   Not mentioned cast\n",
       "8804    Jesse Eisenberg, Woody Harrelson, Emma Stone, ...\n",
       "8805    Tim Allen, Courteney Cox, Chevy Chase, Kate Ma...\n",
       "8806    Vicky Kaushal, Sarah-Jane Dias, Raaghav Chanan...\n",
       "Name: cast, Length: 10850, dtype: object"
      ]
     },
     "execution_count": 89,
     "metadata": {},
     "output_type": "execute_result"
    }
   ],
   "source": [
    "netflix_dataframe['cast'].fillna('Not mentioned cast')"
   ]
  },
  {
   "cell_type": "code",
   "execution_count": 90,
   "id": "1902252d-17b8-4038-8e31-b9482242b038",
   "metadata": {
    "tags": []
   },
   "outputs": [
    {
     "data": {
      "text/plain": [
       "0               United States\n",
       "1                South Africa\n",
       "2       country not mentioned\n",
       "3       country not mentioned\n",
       "4                       India\n",
       "                ...          \n",
       "8802            United States\n",
       "8803    country not mentioned\n",
       "8804            United States\n",
       "8805            United States\n",
       "8806                    India\n",
       "Name: country, Length: 10850, dtype: object"
      ]
     },
     "execution_count": 90,
     "metadata": {},
     "output_type": "execute_result"
    }
   ],
   "source": [
    "netflix_dataframe['country'].fillna('country not mentioned')"
   ]
  },
  {
   "cell_type": "code",
   "execution_count": 91,
   "id": "53230c0b-cf77-4f3a-8df8-c92be1b88e3e",
   "metadata": {
    "tags": []
   },
   "outputs": [
    {
     "data": {
      "text/plain": [
       "0       September 25, 2021\n",
       "1       September 24, 2021\n",
       "2       September 24, 2021\n",
       "3       September 24, 2021\n",
       "4       September 24, 2021\n",
       "               ...        \n",
       "8802     November 20, 2019\n",
       "8803          July 1, 2019\n",
       "8804      November 1, 2019\n",
       "8805      January 11, 2020\n",
       "8806         March 2, 2019\n",
       "Name: date_added, Length: 10850, dtype: object"
      ]
     },
     "execution_count": 91,
     "metadata": {},
     "output_type": "execute_result"
    }
   ],
   "source": [
    "netflix_dataframe['date_added'].fillna('date added not mentioned')"
   ]
  },
  {
   "cell_type": "code",
   "execution_count": 92,
   "id": "ee0376ef-b2fa-4c49-9bad-b5c06d82dc6a",
   "metadata": {
    "tags": []
   },
   "outputs": [
    {
     "data": {
      "text/plain": [
       "0       PG-13\n",
       "1       TV-MA\n",
       "2       TV-MA\n",
       "3       TV-MA\n",
       "4       TV-MA\n",
       "        ...  \n",
       "8802        R\n",
       "8803    TV-Y7\n",
       "8804        R\n",
       "8805       PG\n",
       "8806    TV-14\n",
       "Name: rating, Length: 10850, dtype: object"
      ]
     },
     "execution_count": 92,
     "metadata": {},
     "output_type": "execute_result"
    }
   ],
   "source": [
    "netflix_dataframe['rating'].fillna('rating not mentioned')"
   ]
  },
  {
   "cell_type": "code",
   "execution_count": 93,
   "id": "754aca28-f4f6-488d-8e39-3234051bfccf",
   "metadata": {
    "tags": []
   },
   "outputs": [
    {
     "data": {
      "text/plain": [
       "0          90 min\n",
       "1       2 Seasons\n",
       "2        1 Season\n",
       "3        1 Season\n",
       "4       2 Seasons\n",
       "          ...    \n",
       "8802      158 min\n",
       "8803    2 Seasons\n",
       "8804       88 min\n",
       "8805       88 min\n",
       "8806      111 min\n",
       "Name: duration, Length: 10850, dtype: object"
      ]
     },
     "execution_count": 93,
     "metadata": {},
     "output_type": "execute_result"
    }
   ],
   "source": [
    "netflix_dataframe['duration'].fillna('duration not mentioned')"
   ]
  },
  {
   "cell_type": "markdown",
   "id": "400e4d33-d1e2-4267-b30f-5111cc225d74",
   "metadata": {},
   "source": [
    "#### separating the combined genre into different rows "
   ]
  },
  {
   "cell_type": "code",
   "execution_count": 130,
   "id": "3126121f-f603-4b71-b10a-50b06ede4a2b",
   "metadata": {
    "tags": []
   },
   "outputs": [
    {
     "name": "stdout",
     "output_type": "stream",
     "text": [
      "0               Documentaries\n",
      "1      International TV Shows\n",
      "1                   TV Dramas\n",
      "1                TV Mysteries\n",
      "2              Crime TV Shows\n",
      "2      International TV Shows\n",
      "2       TV Action & Adventure\n",
      "3                  Docuseries\n",
      "3                  Reality TV\n",
      "4      International TV Shows\n",
      "4           Romantic TV Shows\n",
      "4                 TV Comedies\n",
      "5                   TV Dramas\n",
      "5                   TV Horror\n",
      "5                TV Mysteries\n",
      "6    Children & Family Movies\n",
      "7                      Dramas\n",
      "7          Independent Movies\n",
      "7        International Movies\n",
      "7                      Dramas\n",
      "Name: listed_in, dtype: object\n"
     ]
    }
   ],
   "source": [
    "netflix_dataframe['listed_in'] = netflix_dataframe['listed_in'].str.split(',')\n",
    "netflix_dataframe = netflix_dataframe.explode('listed_in')\n",
    "print(netflix_dataframe['listed_in'].head(20))"
   ]
  },
  {
   "cell_type": "markdown",
   "id": "bdccc1d4-9378-4d45-bc58-5a02b050b80d",
   "metadata": {},
   "source": [
    "## 4) Data analysis"
   ]
  },
  {
   "cell_type": "markdown",
   "id": "97fe1db3-87c5-44d7-a7a8-166e99f37b1d",
   "metadata": {
    "tags": []
   },
   "source": [
    "#### Number of shows released each year"
   ]
  },
  {
   "cell_type": "code",
   "execution_count": 131,
   "id": "08e65c3e-dfef-4812-be35-baef26586e55",
   "metadata": {
    "tags": []
   },
   "outputs": [
    {
     "name": "stdout",
     "output_type": "stream",
     "text": [
      "Index([2018, 2017, 2019, 2016, 2020, 2015, 2021, 2014, 2013, 2012], dtype='int64', name='release_year')\n"
     ]
    }
   ],
   "source": [
    "# Top 10 release_year count\n",
    "release_year_top_10 = release_year_value_count.nlargest(10)\n",
    "print(release_year_top_10.index)"
   ]
  },
  {
   "cell_type": "code",
   "execution_count": 132,
   "id": "15542ac7-10c6-4f58-b7ba-f8f112d27aed",
   "metadata": {
    "tags": []
   },
   "outputs": [
    {
     "data": {
      "image/png": "[encoded data removed]",
      "text/plain": [
       "<Figure size 640x480 with 1 Axes>"
      ]
     },
     "metadata": {},
     "output_type": "display_data"
    }
   ],
   "source": [
    "plt.bar( release_year_top_10.index,release_year_top_10.values,color='red')\n",
    "plt.title(\"Top 10 show release year date number\")\n",
    "plt.xlabel(\"Release Year\")\n",
    "plt.ylabel(\"Number of show released in that year\")\n",
    "plt.xticks(release_year_top_10.index)\n",
    "plt.show()"
   ]
  },
  {
   "cell_type": "markdown",
   "id": "dccedbf2-45bf-4d62-b89b-9eeb0b6df2ea",
   "metadata": {},
   "source": [
    "## Top 10 number of Genre  "
   ]
  },
  {
   "cell_type": "code",
   "execution_count": 141,
   "id": "76c94141-6013-43e9-be10-856730e805d3",
   "metadata": {
    "tags": []
   },
   "outputs": [
    {
     "name": "stdout",
     "output_type": "stream",
     "text": [
      "listed_in\n",
      " International Movies       3366\n",
      "Dramas                      2186\n",
      "Comedies                    1364\n",
      "Action & Adventure          1182\n",
      "Documentaries               1076\n",
      " Dramas                     1016\n",
      " Independent Movies         1010\n",
      "International TV Shows       817\n",
      "Children & Family Movies     801\n",
      " TV Dramas                   764\n",
      "Name: count, dtype: int64\n"
     ]
    }
   ],
   "source": [
    "top_10_genre =netflix_dataframe['listed_in'].value_counts().nlargest(10)\n",
    "print(top_10_genre)"
   ]
  },
  {
   "cell_type": "code",
   "execution_count": 143,
   "id": "ad8dcca9-7a7f-42e3-945f-f789187888b5",
   "metadata": {
    "tags": []
   },
   "outputs": [
    {
     "data": {
      "image/png": "[encoded data removed]",
      "text/plain": [
       "<Figure size 640x480 with 1 Axes>"
      ]
     },
     "metadata": {},
     "output_type": "display_data"
    }
   ],
   "source": [
    "plt.bar( top_10_genre.index,top_10_genre.values,color='orange')\n",
    "plt.title(\"Top 10 number of genre\")\n",
    "plt.xlabel(\"Genre\")\n",
    "plt.ylabel(\"Number of show associated with that genre\")\n",
    "plt.xticks(top_10_genre.index,rotation=90)\n",
    "plt.show()"
   ]
  },
  {
   "cell_type": "markdown",
   "id": "da2c4f7a-6b59-43fb-b6aa-ab56df21e331",
   "metadata": {},
   "source": [
    "## Top 10 countries with most producing content"
   ]
  },
  {
   "cell_type": "code",
   "execution_count": 145,
   "id": "3880a29a-6a4d-46bc-893b-ba379eec6ba9",
   "metadata": {
    "tags": []
   },
   "outputs": [
    {
     "name": "stdout",
     "output_type": "stream",
     "text": [
      "country\n",
      "United States     5755\n",
      "India             2721\n",
      "United Kingdom    1413\n",
      " United States    1025\n",
      "Japan              619\n",
      "South Korea        595\n",
      "Canada             530\n",
      "France             505\n",
      "Spain              473\n",
      " France            411\n",
      "Name: count, dtype: int64\n"
     ]
    }
   ],
   "source": [
    "top_10_country = netflix_dataframe['country'].value_counts().nlargest(10)\n",
    "print(top_10_country)"
   ]
  },
  {
   "cell_type": "code",
   "execution_count": 149,
   "id": "5d5a0053-f9c2-40f1-916e-22c9d8da050f",
   "metadata": {
    "tags": []
   },
   "outputs": [
    {
     "data": {
      "image/png": "[encoded data removed]",
      "text/plain": [
       "<Figure size 640x480 with 1 Axes>"
      ]
     },
     "metadata": {},
     "output_type": "display_data"
    }
   ],
   "source": [
    "plt.pie(top_10_country.values, labels=top_10_country.index)\n",
    "plt.title(\"top countries with most producing content\")\n",
    "plt.show()"
   ]
  },
  {
   "cell_type": "code",
   "execution_count": null,
   "id": "47f6ff1c-9efb-40c6-a4ba-41b68e224293",
   "metadata": {},
   "outputs": [],
   "source": []
  }
 ],
 "metadata": {
  "kernelspec": {
   "display_name": "Python 3 (ipykernel)",
   "language": "python",
   "name": "python3"
  },
  "language_info": {
   "codemirror_mode": {
    "name": "ipython",
    "version": 3
   },
   "file_extension": ".py",
   "mimetype": "text/x-python",
   "name": "python",
   "nbconvert_exporter": "python",
   "pygments_lexer": "ipython3",
   "version": "3.11.5"
  }
 },
 "nbformat": 4,
 "nbformat_minor": 5
}
